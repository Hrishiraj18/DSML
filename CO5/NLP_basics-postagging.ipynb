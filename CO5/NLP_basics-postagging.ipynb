{
 "cells": [
  {
   "cell_type": "code",
   "execution_count": 1,
   "metadata": {},
   "outputs": [],
   "source": [
    "import nltk\n",
    "#for multiline quotes we five 3 \"\"\""
   ]
  },
  {
   "cell_type": "code",
   "execution_count": 2,
   "metadata": {},
   "outputs": [
    {
     "name": "stdout",
     "output_type": "stream",
     "text": [
      "['David Beckham (born May 2, 1975, Leytonstone, East London, England) English football (soccer) player who gained international fame for his on-field play as well as for his highly publicized personal life.', 'At age 11 Beckham won a football contest, and as a teenager he competed on Manchester United’s youth squad, leading it to a national championship in 1992.', 'Three years later he began playing with the professional team in league competition, and during the 1995–96 season he helped Manchester United win the league title and the Football Association (FA) Cup.']\n",
      "\n",
      " 1 : David Beckham (born May 2, 1975, Leytonstone, East London, England) English football (soccer) player who gained international fame for his on-field play as well as for his highly publicized personal life.\n",
      "\n",
      " 2 : At age 11 Beckham won a football contest, and as a teenager he competed on Manchester United’s youth squad, leading it to a national championship in 1992.\n",
      "\n",
      " 3 : Three years later he began playing with the professional team in league competition, and during the 1995–96 season he helped Manchester United win the league title and the Football Association (FA) Cup.\n"
     ]
    }
   ],
   "source": [
    "from nltk.tokenize import sent_tokenize\n",
    "\n",
    "text=\"David Beckham (born May 2, 1975, Leytonstone, East London, England) English football (soccer) player who gained international fame for his on-field play as well as for his highly publicized personal life. At age 11 Beckham won a football contest, and as a teenager he competed on Manchester United’s youth squad, leading it to a national championship in 1992. Three years later he began playing with the professional team in league competition, and during the 1995–96 season he helped Manchester United win the league title and the Football Association (FA) Cup.\"\n",
    "sentence_tokenize=sent_tokenize(text)\n",
    "print(sentence_tokenize)\n",
    "for i in range(len(sentence_tokenize)):\n",
    "    print(\"\\n\",i+1,\":\",sentence_tokenize[i])"
   ]
  },
  {
   "cell_type": "code",
   "execution_count": 3,
   "metadata": {},
   "outputs": [
    {
     "name": "stdout",
     "output_type": "stream",
     "text": [
      "['David', 'Beckham', 'English', 'football', 'player', 'who', 'gained', 'international', 'fame', 'for', 'his', 'on-field', 'play', 'as', 'well', 'as', 'for', 'his', 'highly', 'publicized', 'personal', 'life', '.']\n",
      "1 : David\n",
      "2 : Beckham\n",
      "3 : English\n",
      "4 : football\n",
      "5 : player\n",
      "6 : who\n",
      "7 : gained\n",
      "8 : international\n",
      "9 : fame\n",
      "10 : for\n",
      "11 : his\n",
      "12 : on-field\n",
      "13 : play\n",
      "14 : as\n",
      "15 : well\n",
      "16 : as\n",
      "17 : for\n",
      "18 : his\n",
      "19 : highly\n",
      "20 : publicized\n",
      "21 : personal\n",
      "22 : life\n",
      "23 : .\n"
     ]
    }
   ],
   "source": [
    "from nltk.tokenize import word_tokenize\n",
    "text=\" David Beckham English football player who gained international fame for his on-field play as well as for his highly publicized personal life.\"\n",
    "word_tokens=word_tokenize(text)\n",
    "print(word_tokens)\n",
    "for i in range(len(word_tokens)):\n",
    "    print(i+1,\":\",word_tokens[i])"
   ]
  },
  {
   "cell_type": "code",
   "execution_count": 4,
   "metadata": {},
   "outputs": [
    {
     "name": "stderr",
     "output_type": "stream",
     "text": [
      "[nltk_data] Error loading averaged_perceptron_tagger: <urlopen error\n",
      "[nltk_data]     [WinError 10060] A connection attempt failed because\n",
      "[nltk_data]     the connected party did not properly respond after a\n",
      "[nltk_data]     period of time, or established connection failed\n",
      "[nltk_data]     because connected host has failed to respond>\n",
      "[nltk_data] Error loading tagsets: <urlopen error [WinError 10060] A\n",
      "[nltk_data]     connection attempt failed because the connected party\n",
      "[nltk_data]     did not properly respond after a period of time, or\n",
      "[nltk_data]     established connection failed because connected host\n",
      "[nltk_data]     has failed to respond>\n"
     ]
    },
    {
     "data": {
      "text/plain": [
       "False"
      ]
     },
     "execution_count": 4,
     "metadata": {},
     "output_type": "execute_result"
    }
   ],
   "source": [
    "nltk.download('averaged_perceptron_tagger')\n",
    "nltk.download('tagsets')"
   ]
  },
  {
   "cell_type": "code",
   "execution_count": 5,
   "metadata": {},
   "outputs": [
    {
     "name": "stdout",
     "output_type": "stream",
     "text": [
      "[('David', 'NNP'), ('Beckham', 'NNP'), ('English', 'NNP'), ('football', 'NN'), ('player', 'NN'), ('who', 'WP'), ('gained', 'VBD'), ('international', 'JJ'), ('fame', 'NN'), ('for', 'IN'), ('his', 'PRP$'), ('on-field', 'JJ'), ('play', 'NN'), ('as', 'RB'), ('well', 'RB'), ('as', 'IN'), ('for', 'IN'), ('his', 'PRP$'), ('highly', 'RB'), ('publicized', 'VBN'), ('personal', 'JJ'), ('life', 'NN'), ('.', '.')]\n"
     ]
    }
   ],
   "source": [
    "tagged_words=nltk.pos_tag(word_tokens)\n",
    "print(tagged_words)"
   ]
  },
  {
   "cell_type": "code",
   "execution_count": 6,
   "metadata": {},
   "outputs": [
    {
     "name": "stdout",
     "output_type": "stream",
     "text": [
      "['The', 'quick', 'brown', 'fox', 'jumps', 'over', 'the', 'lazy', 'dog', '.']\n",
      "[('The', 'DT'), ('quick', 'JJ'), ('brown', 'NN'), ('fox', 'NN'), ('jumps', 'VBZ'), ('over', 'IN'), ('the', 'DT'), ('lazy', 'JJ'), ('dog', 'NN'), ('.', '.')]\n"
     ]
    }
   ],
   "source": [
    "text=\"The quick brown fox jumps over the lazy dog.\"\n",
    "#to do chunking grammar is required and regex method is used here.\n",
    "word_tokens=word_tokenize(text)\n",
    "print(word_tokens)\n",
    "tagged=nltk.pos_tag(word_tokens)\n",
    "print(tagged)"
   ]
  },
  {
   "cell_type": "code",
   "execution_count": 7,
   "metadata": {},
   "outputs": [],
   "source": [
    "from nltk import RegexpParser"
   ]
  },
  {
   "cell_type": "code",
   "execution_count": 8,
   "metadata": {},
   "outputs": [
    {
     "name": "stdout",
     "output_type": "stream",
     "text": [
      "(S\n",
      "  (NP The/DT quick/JJ brown/NN)\n",
      "  (NP fox/NN)\n",
      "  jumps/VBZ\n",
      "  over/IN\n",
      "  (NP the/DT lazy/JJ dog/NN)\n",
      "  ./.)\n"
     ]
    }
   ],
   "source": [
    "grammar=\"NP: {<DT>?<JJ>*<NN>}\"\n",
    "parser=RegexpParser(grammar)\n",
    "chunk=parser.parse(tagged)\n",
    "print(chunk)"
   ]
  },
  {
   "cell_type": "code",
   "execution_count": 9,
   "metadata": {},
   "outputs": [
    {
     "name": "stdout",
     "output_type": "stream",
     "text": [
      "(S\n",
      "  The/DT\n",
      "  quick/JJ\n",
      "  brown/NN\n",
      "  fox/NN\n",
      "  (VP jumps/VBZ)\n",
      "  over/IN\n",
      "  the/DT\n",
      "  lazy/JJ\n",
      "  dog/NN\n",
      "  ./.)\n"
     ]
    }
   ],
   "source": [
    "\n",
    "grammar=\"VP: {<MD>?<VB.*><NP>?}\"\n",
    "parser=RegexpParser(grammar)\n",
    "chunk=parser.parse(tagged)\n",
    "print(chunk)"
   ]
  },
  {
   "cell_type": "code",
   "execution_count": 10,
   "metadata": {},
   "outputs": [
    {
     "data": {
      "image/svg+xml": [
       "<svg baseProfile=\"full\" height=\"120px\" preserveAspectRatio=\"xMidYMid meet\" style=\"font-family: times, serif; font-weight: normal; font-style: normal; font-size: 16px;\" version=\"1.1\" viewBox=\"0,0,688.0,120.0\" width=\"688px\" xmlns=\"http://www.w3.org/2000/svg\" xmlns:ev=\"http://www.w3.org/2001/xml-events\" xmlns:xlink=\"http://www.w3.org/1999/xlink\"><defs /><svg width=\"100%\" x=\"0\" y=\"0px\"><defs /><text text-anchor=\"middle\" x=\"50%\" y=\"16px\">S</text></svg><svg width=\"9.30233%\" x=\"0%\" y=\"48px\"><defs /><svg width=\"100%\" x=\"0\" y=\"0px\"><defs /><text text-anchor=\"middle\" x=\"50%\" y=\"16px\">The/DT</text></svg></svg><line stroke=\"black\" x1=\"50%\" x2=\"4.65116%\" y1=\"19.2px\" y2=\"48px\" /><svg width=\"11.6279%\" x=\"9.30233%\" y=\"48px\"><defs /><svg width=\"100%\" x=\"0\" y=\"0px\"><defs /><text text-anchor=\"middle\" x=\"50%\" y=\"16px\">quick/JJ</text></svg></svg><line stroke=\"black\" x1=\"50%\" x2=\"15.1163%\" y1=\"19.2px\" y2=\"48px\" /><svg width=\"11.6279%\" x=\"20.9302%\" y=\"48px\"><defs /><svg width=\"100%\" x=\"0\" y=\"0px\"><defs /><text text-anchor=\"middle\" x=\"50%\" y=\"16px\">brown/NN</text></svg></svg><line stroke=\"black\" x1=\"50%\" x2=\"26.7442%\" y1=\"19.2px\" y2=\"48px\" /><svg width=\"9.30233%\" x=\"32.5581%\" y=\"48px\"><defs /><svg width=\"100%\" x=\"0\" y=\"0px\"><defs /><text text-anchor=\"middle\" x=\"50%\" y=\"16px\">fox/NN</text></svg></svg><line stroke=\"black\" x1=\"50%\" x2=\"37.2093%\" y1=\"19.2px\" y2=\"48px\" /><svg width=\"12.7907%\" x=\"41.8605%\" y=\"48px\"><defs /><svg width=\"100%\" x=\"0\" y=\"0px\"><defs /><text text-anchor=\"middle\" x=\"50%\" y=\"16px\">VP</text></svg><svg width=\"100%\" x=\"0%\" y=\"48px\"><defs /><svg width=\"100%\" x=\"0\" y=\"0px\"><defs /><text text-anchor=\"middle\" x=\"50%\" y=\"16px\">jumps/VBZ</text></svg></svg><line stroke=\"black\" x1=\"50%\" x2=\"50%\" y1=\"19.2px\" y2=\"48px\" /></svg><line stroke=\"black\" x1=\"50%\" x2=\"48.2558%\" y1=\"19.2px\" y2=\"48px\" /><svg width=\"10.4651%\" x=\"54.6512%\" y=\"48px\"><defs /><svg width=\"100%\" x=\"0\" y=\"0px\"><defs /><text text-anchor=\"middle\" x=\"50%\" y=\"16px\">over/IN</text></svg></svg><line stroke=\"black\" x1=\"50%\" x2=\"59.8837%\" y1=\"19.2px\" y2=\"48px\" /><svg width=\"9.30233%\" x=\"65.1163%\" y=\"48px\"><defs /><svg width=\"100%\" x=\"0\" y=\"0px\"><defs /><text text-anchor=\"middle\" x=\"50%\" y=\"16px\">the/DT</text></svg></svg><line stroke=\"black\" x1=\"50%\" x2=\"69.7674%\" y1=\"19.2px\" y2=\"48px\" /><svg width=\"10.4651%\" x=\"74.4186%\" y=\"48px\"><defs /><svg width=\"100%\" x=\"0\" y=\"0px\"><defs /><text text-anchor=\"middle\" x=\"50%\" y=\"16px\">lazy/JJ</text></svg></svg><line stroke=\"black\" x1=\"50%\" x2=\"79.6512%\" y1=\"19.2px\" y2=\"48px\" /><svg width=\"9.30233%\" x=\"84.8837%\" y=\"48px\"><defs /><svg width=\"100%\" x=\"0\" y=\"0px\"><defs /><text text-anchor=\"middle\" x=\"50%\" y=\"16px\">dog/NN</text></svg></svg><line stroke=\"black\" x1=\"50%\" x2=\"89.5349%\" y1=\"19.2px\" y2=\"48px\" /><svg width=\"5.81395%\" x=\"94.186%\" y=\"48px\"><defs /><svg width=\"100%\" x=\"0\" y=\"0px\"><defs /><text text-anchor=\"middle\" x=\"50%\" y=\"16px\">./.</text></svg></svg><line stroke=\"black\" x1=\"50%\" x2=\"97.093%\" y1=\"19.2px\" y2=\"48px\" /></svg>"
      ],
      "text/plain": [
       "Tree('S', ['The/DT', 'quick/JJ', 'brown/NN', 'fox/NN', Tree('VP', ['jumps/VBZ']), 'over/IN', 'the/DT', 'lazy/JJ', 'dog/NN', './.'])"
      ]
     },
     "metadata": {},
     "output_type": "display_data"
    }
   ],
   "source": [
    "from nltk.tree import Tree\n",
    "tree=Tree.fromstring(str(chunk))\n",
    "#Displaying Tree\n",
    "from IPython.display import display\n",
    "display(tree)"
   ]
  }
 ],
 "metadata": {
  "kernelspec": {
   "display_name": "Python 3",
   "language": "python",
   "name": "python3"
  },
  "language_info": {
   "codemirror_mode": {
    "name": "ipython",
    "version": 3
   },
   "file_extension": ".py",
   "mimetype": "text/x-python",
   "name": "python",
   "nbconvert_exporter": "python",
   "pygments_lexer": "ipython3",
   "version": "3.11.7"
  }
 },
 "nbformat": 4,
 "nbformat_minor": 2
}
