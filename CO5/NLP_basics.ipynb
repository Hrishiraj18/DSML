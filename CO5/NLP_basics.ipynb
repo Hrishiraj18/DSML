{
 "cells": [
  {
   "cell_type": "code",
   "execution_count": 1,
   "metadata": {},
   "outputs": [],
   "source": [
    "import nltk\n",
    "#for multiline quotes we five 3 \"\"\""
   ]
  },
  {
   "cell_type": "code",
   "execution_count": 4,
   "metadata": {},
   "outputs": [
    {
     "name": "stdout",
     "output_type": "stream",
     "text": [
      "['David Beckham (born May 2, 1975, Leytonstone, East London, England) English football (soccer) player who gained international fame for his on-field play as well as for his highly publicized personal life.', 'At age 11 Beckham won a football contest, and as a teenager he competed on Manchester United’s youth squad, leading it to a national championship in 1992.', 'Three years later he began playing with the professional team in league competition, and during the 1995–96 season he helped Manchester United win the league title and the Football Association (FA) Cup.']\n",
      "\n",
      " 1 : David Beckham (born May 2, 1975, Leytonstone, East London, England) English football (soccer) player who gained international fame for his on-field play as well as for his highly publicized personal life.\n",
      "\n",
      " 2 : At age 11 Beckham won a football contest, and as a teenager he competed on Manchester United’s youth squad, leading it to a national championship in 1992.\n",
      "\n",
      " 3 : Three years later he began playing with the professional team in league competition, and during the 1995–96 season he helped Manchester United win the league title and the Football Association (FA) Cup.\n"
     ]
    }
   ],
   "source": [
    "from nltk.tokenize import sent_tokenize\n",
    "\n",
    "text=\"David Beckham (born May 2, 1975, Leytonstone, East London, England) English football (soccer) player who gained international fame for his on-field play as well as for his highly publicized personal life. At age 11 Beckham won a football contest, and as a teenager he competed on Manchester United’s youth squad, leading it to a national championship in 1992. Three years later he began playing with the professional team in league competition, and during the 1995–96 season he helped Manchester United win the league title and the Football Association (FA) Cup.\"\n",
    "sentence_tokenize=sent_tokenize(text)\n",
    "print(sentence_tokenize)\n",
    "for i in range(len(sentence_tokenize)):\n",
    "    print(\"\\n\",i+1,\":\",sentence_tokenize[i])"
   ]
  },
  {
   "cell_type": "code",
   "execution_count": 10,
   "metadata": {},
   "outputs": [
    {
     "name": "stdout",
     "output_type": "stream",
     "text": [
      "['David', 'Beckham', 'English', 'football', 'player', 'who', 'gained', 'international', 'fame', 'for', 'his', 'on-field', 'play', 'as', 'well', 'as', 'for', 'his', 'highly', 'publicized', 'personal', 'life', '.']\n",
      "1 : David\n",
      "2 : Beckham\n",
      "3 : English\n",
      "4 : football\n",
      "5 : player\n",
      "6 : who\n",
      "7 : gained\n",
      "8 : international\n",
      "9 : fame\n",
      "10 : for\n",
      "11 : his\n",
      "12 : on-field\n",
      "13 : play\n",
      "14 : as\n",
      "15 : well\n",
      "16 : as\n",
      "17 : for\n",
      "18 : his\n",
      "19 : highly\n",
      "20 : publicized\n",
      "21 : personal\n",
      "22 : life\n",
      "23 : .\n"
     ]
    }
   ],
   "source": [
    "from nltk.tokenize import word_tokenize\n",
    "text=\" David Beckham English football player who gained international fame for his on-field play as well as for his highly publicized personal life.\"\n",
    "word_tokens=word_tokenize(text)\n",
    "print(word_tokens)\n",
    "for i in range(len(word_tokens)):\n",
    "    print(i+1,\":\",word_tokens[i])"
   ]
  }
 ],
 "metadata": {
  "kernelspec": {
   "display_name": "Python 3",
   "language": "python",
   "name": "python3"
  },
  "language_info": {
   "codemirror_mode": {
    "name": "ipython",
    "version": 3
   },
   "file_extension": ".py",
   "mimetype": "text/x-python",
   "name": "python",
   "nbconvert_exporter": "python",
   "pygments_lexer": "ipython3",
   "version": "3.11.7"
  }
 },
 "nbformat": 4,
 "nbformat_minor": 2
}
