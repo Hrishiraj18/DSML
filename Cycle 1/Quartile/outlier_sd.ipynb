{
 "cells": [
  {
   "cell_type": "code",
   "execution_count": 9,
   "metadata": {},
   "outputs": [
    {
     "name": "stdout",
     "output_type": "stream",
     "text": [
      "127.07942116080001\n",
      "Outliers:\n",
      "       Index  Weight(Pounds)\n",
      "2          3       153.02690\n",
      "22        23        97.90191\n",
      "30        31       103.30160\n",
      "56        57       155.89870\n",
      "68        69       103.52750\n",
      "...      ...             ...\n",
      "24926  24927       154.48110\n",
      "24930  24931        99.42378\n",
      "24947  24948       154.78210\n",
      "24980  24981       154.43990\n",
      "24988  24989       103.38100\n",
      "\n",
      "[1179 rows x 2 columns]\n"
     ]
    }
   ],
   "source": [
    "import pandas as pd\n",
    "\n",
    "# Replace 'your_file.csv' with the actual path to your CSV file\n",
    "file_path = 'weightdata.csv'\n",
    "\n",
    "# Read the CSV file into a pandas DataFrame\n",
    "df = pd.read_csv(file_path)\n",
    "\n",
    "# Access the 'Weight(Pounds)' column\n",
    "weights = df['Weight(Pounds)']\n",
    "\n",
    "# Calculate mean and standard deviation\n",
    "mean_weight = weights.mean()\n",
    "print(mean_weight)\n",
    "std_dev_weight = weights.std()\n",
    "\n",
    "# Define a threshold for outliers (e.g., consider values beyond 2 standard deviations as outliers)\n",
    "threshold = 2\n",
    "\n",
    "# Detect outliers\n",
    "outliers = df[(df['Weight(Pounds)'] > mean_weight + threshold * std_dev_weight) | \n",
    "              (df['Weight(Pounds)'] < mean_weight - threshold * std_dev_weight)]\n",
    "\n",
    "# Display the outliers\n",
    "print(\"Outliers:\")\n",
    "print(outliers)\n"
   ]
  },
  {
   "cell_type": "code",
   "execution_count": 12,
   "metadata": {},
   "outputs": [
    {
     "name": "stdout",
     "output_type": "stream",
     "text": [
      "Outliers:\n",
      "       Index  Weight(Pounds)\n",
      "249      250        84.35980\n",
      "367      368       168.22900\n",
      "446      447       162.41090\n",
      "727      728        83.08527\n",
      "1332    1333       162.87370\n",
      "...      ...             ...\n",
      "21101  21102        85.98927\n",
      "22282  22283        91.37972\n",
      "22738  22739        87.80417\n",
      "22945  22946        78.01476\n",
      "24610  24611        82.38298\n",
      "\n",
      "[69 rows x 2 columns]\n",
      "Outliers exported to 'outliers.csv'\n"
     ]
    }
   ],
   "source": [
    "import pandas as pd\n",
    "\n",
    "# Replace 'weightdata.csv' with the actual path to your CSV file\n",
    "file_path = 'weightdata.csv'\n",
    "\n",
    "# Read the CSV file into a pandas DataFrame\n",
    "df = pd.read_csv(file_path)\n",
    "\n",
    "# Access the 'Weight(Pounds)' column\n",
    "weights = df['Weight(Pounds)']\n",
    "\n",
    "# Calculate mean and standard deviation\n",
    "mean_weight = weights.mean()\n",
    "std_dev_weight = weights.std()\n",
    "\n",
    "# Define a threshold for outliers (e.g., consider values beyond 2 standard deviations as outliers)\n",
    "threshold = 3\n",
    "\n",
    "# Detect outliers\n",
    "outliers = df[(df['Weight(Pounds)'] > mean_weight + threshold * std_dev_weight) | \n",
    "              (df['Weight(Pounds)'] < mean_weight - threshold * std_dev_weight)]\n",
    "\n",
    "# Display the outliers\n",
    "print(\"Outliers:\")\n",
    "print(outliers)\n",
    "\n",
    "# Save outliers to a new CSV file\n",
    "outliers.to_csv('outliers.csv', index=False)\n",
    "print(\"Outliers exported to 'outliers.csv'\")\n"
   ]
  }
 ],
 "metadata": {
  "kernelspec": {
   "display_name": "Python 3",
   "language": "python",
   "name": "python3"
  },
  "language_info": {
   "codemirror_mode": {
    "name": "ipython",
    "version": 3
   },
   "file_extension": ".py",
   "mimetype": "text/x-python",
   "name": "python",
   "nbconvert_exporter": "python",
   "pygments_lexer": "ipython3",
   "version": "3.11.5"
  }
 },
 "nbformat": 4,
 "nbformat_minor": 2
}
